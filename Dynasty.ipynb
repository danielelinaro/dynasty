{
 "cells": [
  {
   "cell_type": "code",
   "execution_count": null,
   "metadata": {},
   "outputs": [],
   "source": [
    "import numpy as np\n",
    "import matplotlib.pyplot as plt\n",
    "from scipy.integrate import solve_ivp\n",
    "%matplotlib inline"
   ]
  },
  {
   "cell_type": "code",
   "execution_count": null,
   "metadata": {},
   "outputs": [],
   "source": [
    "def dynasty(t, y, R, E, B=0.17, D=0.42, G=0.09, H=0.1, Q=0.4):\n",
    "    return np.array([\n",
    "        y[0] * (1 - y[0] - y[1] / (B + y[0]) - H * y[2]),\n",
    "        Q * y[1] * (E * y[0] / (B + y[0]) - 1 - y[2] / (D + y[1])),\n",
    "        R * (y[0] * y[1] / (B + y[0]) - G * y[2])\n",
    "    ])\n",
    "\n",
    "def jacobian(t, y, R, E, B=0.17, D=0.42, G=0.09, H=0.1, Q=0.4):\n",
    "    deny0 = 1 / (B + y[0]);\n",
    "    deny1 = 1 / (D + y[1]);\n",
    "    deny0square = deny0 ** 2;\n",
    "    deny1square = deny1 ** 2;\n",
    "    return np.array([\n",
    "        [1 - 2 * y[0] - B * y[1] * deny0square - H * y[2], -y[0] * deny0, -H * y[0]],\n",
    "        [Q * E * B * y[1] * deny0square, Q * E * y[0] * deny0 - Q * D * y[2] * deny1square - Q, -Q * y[1] * deny1],\n",
    "        [R * B * y[1] * deny0square, R * y[0] * deny0, -R * G]\n",
    "    ])\n",
    "\n",
    "def y0min(t, y, B=0.17, H=0.1):\n",
    "    return y[0] * (1 - y[0] - y[1] / (B + y[0]) - H * y[2])\n",
    "y0min.direction = 1\n",
    "\n",
    "def y1max(t, y, E, B=0.17, D=0.42, H=0.1, Q=0.4):\n",
    "    return Q * y[1] * (E * y[0] / (B + y[0]) - 1 - y[2] / (D + y[1]))\n",
    "y1max.direction = 1"
   ]
  },
  {
   "cell_type": "code",
   "execution_count": null,
   "metadata": {},
   "outputs": [],
   "source": [
    "reltol = 1e-12\n",
    "abstol = 1e-10 + np.zeros(3)\n",
    "tend = 20000.\n",
    "R = 0.1\n",
    "E = 2.3\n",
    "y0 = np.array([0.8,0.1,0.1])\n",
    "sol = solve_ivp(lambda t,y: dynasty(t, y, R, E),\n",
    "                [0,tend], y0, method='BDF',\n",
    "                jac=lambda t,y: jacobian(t, y, R, E),\n",
    "                events=lambda t,y: y1max(t, y, E), dense_output=True,\n",
    "                rtol=reltol, atol=abstol)\n",
    "t = sol['t']\n",
    "y = sol['y']"
   ]
  },
  {
   "cell_type": "code",
   "execution_count": null,
   "metadata": {},
   "outputs": [],
   "source": [
    "sol['y'][:,-1]"
   ]
  },
  {
   "cell_type": "code",
   "execution_count": null,
   "metadata": {},
   "outputs": [],
   "source": [
    "t_ev = sol['t_events'][0]\n",
    "y_ev = sol['sol'](t_ev)"
   ]
  },
  {
   "cell_type": "code",
   "execution_count": null,
   "metadata": {},
   "outputs": [],
   "source": [
    "ttran = 19000\n",
    "\n",
    "fig,(ax1,ax2) = plt.subplots(1, 2, figsize=(12,5))\n",
    "\n",
    "idx = t > ttran\n",
    "col = 'kgm'\n",
    "for i in range(3):\n",
    "    ax1.plot(t[idx], y[i][idx], col[i], lw=1, label=r'$\\mathrm{x}_%d$' % (i+1))\n",
    "ax2.plot(y[2][t > ttran/5], y[1][t > ttran/5], 'k', lw=1)\n",
    "idx = t_ev > ttran\n",
    "ax1.plot(t_ev[idx], y_ev[1][idx], 'ro', markerfacecolor='w', markersize=5, markeredgewidth=1)\n",
    "ax1.legend(loc='best')\n",
    "ax1.set_xlabel('Time')\n",
    "ax1.set_ylim([0, 1])\n",
    "\n",
    "ax2.set_xlabel(r'$\\mathrm{x}_3$')\n",
    "ax2.set_ylabel(r'$\\mathrm{x}_2$')\n",
    "ax2.set_xlim([0, 1])\n",
    "ax2.set_ylim([0, 1])\n",
    "\n",
    "fig.tight_layout()"
   ]
  }
 ],
 "metadata": {
  "kernelspec": {
   "display_name": "Python 3",
   "language": "python",
   "name": "python3"
  },
  "language_info": {
   "codemirror_mode": {
    "name": "ipython",
    "version": 3
   },
   "file_extension": ".py",
   "mimetype": "text/x-python",
   "name": "python",
   "nbconvert_exporter": "python",
   "pygments_lexer": "ipython3",
   "version": "3.7.3"
  }
 },
 "nbformat": 4,
 "nbformat_minor": 2
}
