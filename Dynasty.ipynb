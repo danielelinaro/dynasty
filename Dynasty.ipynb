{
 "cells": [
  {
   "cell_type": "code",
   "execution_count": null,
   "metadata": {},
   "outputs": [],
   "source": [
    "import numpy as np\n",
    "import matplotlib.pyplot as plt\n",
    "from scipy.integrate import solve_ivp"
   ]
  },
  {
   "cell_type": "code",
   "execution_count": null,
   "metadata": {},
   "outputs": [],
   "source": [
    "def dynasty(t,y,R,E,B=0.17,D=0.42,G=0.09,H=0.1,Q=0.4):\n",
    "    return np.array([\n",
    "        y[0]*(1-y[0]-y[1]/(B+y[0])-H*y[2]),\n",
    "        Q*y[1]*(E*y[0]/(B+y[0])-1-y[2]/(D+y[1])),\n",
    "        R*(y[0]*y[1]/(B+y[0])-G*y[2])\n",
    "    ])\n",
    "def jacobian(t,y,R,E,B=0.17,D=0.42,G=0.09,H=0.1,Q=0.4):\n",
    "    deny0 = 1/(B+y[0]);\n",
    "    deny1 = 1/(D+y[1]);\n",
    "    deny0square = deny0**2;\n",
    "    deny1square = deny1**2;\n",
    "    return np.array([\n",
    "        [1-2*y[0]-B*y[1]*deny0square-H*y[2], -y[0]*deny0, -H*y[0]],\n",
    "        [Q*E*B*y[1]*deny0square, Q*E*y[0]*deny0-Q*D*y[2]*deny1square-Q, -Q*y[1]*deny1],\n",
    "        [R*B*y[1]*deny0square, R*y[0]*deny0, -R*G]\n",
    "    ])\n",
    "def y0min(t,y,B=0.17,H=0.1):\n",
    "    return y[0]*(1-y[0]-y[1]/(B+y[0])-H*y[2])\n",
    "y0min.direction = 1"
   ]
  },
  {
   "cell_type": "code",
   "execution_count": null,
   "metadata": {},
   "outputs": [],
   "source": [
    "reltol = 1e-10\n",
    "abstol = 1e-6 + np.zeros(3)\n",
    "tend = 20000.\n",
    "R = 0.1\n",
    "E = 1.5\n",
    "y0 = np.array([0.8,0.1,0.1])\n",
    "sol = solve_ivp(lambda t,y: dynasty(t,y,R,E),\n",
    "                [0,tend], y0, method='BDF',\n",
    "                jac=lambda t,y: jacobian(t,y,R,E),\n",
    "                events=y0min,\n",
    "                rtol=reltol, atol=abstol)\n",
    "t = sol['t']\n",
    "y = sol['y']"
   ]
  },
  {
   "cell_type": "code",
   "execution_count": null,
   "metadata": {},
   "outputs": [],
   "source": [
    "sol['y'][:,-1]"
   ]
  },
  {
   "cell_type": "code",
   "execution_count": null,
   "metadata": {},
   "outputs": [],
   "source": [
    "plt.figure(figsize=(8,6))\n",
    "plt.plot(t,y[0],'k')\n",
    "#for ev in sol['t_events'][0]:\n",
    "#    plt.plot([ev,ev],[0,1],'r--')\n",
    "#plt.axis([375,400,0,0.1])\n",
    "plt.show()"
   ]
  },
  {
   "cell_type": "code",
   "execution_count": null,
   "metadata": {},
   "outputs": [],
   "source": [
    "idx = t>3000\n",
    "plt.plot(y[2][idx],y[1][idx],'k',lw=0.5)\n",
    "plt.axis([0,1,0,1])\n",
    "plt.show()"
   ]
  }
 ],
 "metadata": {
  "kernelspec": {
   "display_name": "Python 3",
   "language": "python",
   "name": "python3"
  },
  "language_info": {
   "codemirror_mode": {
    "name": "ipython",
    "version": 3
   },
   "file_extension": ".py",
   "mimetype": "text/x-python",
   "name": "python",
   "nbconvert_exporter": "python",
   "pygments_lexer": "ipython3",
   "version": "3.7.5"
  }
 },
 "nbformat": 4,
 "nbformat_minor": 2
}
